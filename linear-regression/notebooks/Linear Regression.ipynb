{
  "nbformat": 4,
  "nbformat_minor": 0,
  "metadata": {
    "colab": {
      "name": "Untitled1.ipynb",
      "provenance": [],
      "authorship_tag": "ABX9TyOmTobihMnNSFbSLdtjmDhs",
      "include_colab_link": true
    },
    "kernelspec": {
      "name": "python3",
      "display_name": "Python 3"
    },
    "language_info": {
      "name": "python"
    }
  },
  "cells": [
    {
      "cell_type": "markdown",
      "metadata": {
        "id": "view-in-github",
        "colab_type": "text"
      },
      "source": [
        "<a href=\"https://colab.research.google.com/github/harrybaines/MLDocs/blob/main/docs/linear-regression/notebooks/Linear%20Regression.ipynb\" target=\"_parent\"><img src=\"https://colab.research.google.com/assets/colab-badge.svg\" alt=\"Open In Colab\"/></a>"
      ]
    },
    {
      "cell_type": "code",
      "metadata": {
        "id": "AUyy7K_8gZZ_"
      },
      "source": [
        "import pandas as pd\n",
        "import numpy as np"
      ],
      "execution_count": 2,
      "outputs": []
    },
    {
      "cell_type": "code",
      "metadata": {
        "id": "MX31R36fjgIZ"
      },
      "source": [
        "def concat_ones(X):\n",
        "    # Adds a column of 1's to the matrix X\n",
        "    n_items = X.shape[0]\n",
        "    X_b = np.c_[np.ones((n_items, 1)), X]  # add x0 = 1 to each instance\n",
        "    return X_b "
      ],
      "execution_count": 3,
      "outputs": []
    },
    {
      "cell_type": "code",
      "metadata": {
        "id": "LXrVZANnjheh"
      },
      "source": [
        "def lr_normal_train(X, y):\n",
        "    # Uses the Normal Equation to compute parameters for Linear Regression\n",
        "    n_items = X.shape[0]\n",
        "    X_b = concat_ones(X)\n",
        "    theta_best = np.linalg.inv(X_b.T.dot(X_b)).dot(X_b.T).dot(y)\n",
        "    return theta_best"
      ],
      "execution_count": 4,
      "outputs": []
    },
    {
      "cell_type": "code",
      "metadata": {
        "id": "_Tuc9A3njjqU"
      },
      "source": [
        ""
      ],
      "execution_count": null,
      "outputs": []
    }
  ]
}